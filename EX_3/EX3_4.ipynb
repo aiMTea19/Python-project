{
 "cells": [
  {
   "cell_type": "code",
   "execution_count": null,
   "id": "eef2f8ab",
   "metadata": {},
   "outputs": [],
   "source": [
    "def EX3_4(a,b,c) : \n",
    "    \"\"\"\n",
    "    (int,int,int) -> (bool)\n",
    "    \"\"\"\n",
    "    while b != 0 :\n",
    "        a *= 2\n",
    "        b -= 1\n",
    "    if a % c == 0 :\n",
    "        return f\"True ({a} is divisible by {c})\"\n",
    "    else :\n",
    "        return f\"False ({a} isn't divisible by {c})\""
   ]
  }
 ],
 "metadata": {
  "kernelspec": {
   "display_name": "Python 3 (ipykernel)",
   "language": "python",
   "name": "python3"
  },
  "language_info": {
   "codemirror_mode": {
    "name": "ipython",
    "version": 3
   },
   "file_extension": ".py",
   "mimetype": "text/x-python",
   "name": "python",
   "nbconvert_exporter": "python",
   "pygments_lexer": "ipython3",
   "version": "3.9.12"
  }
 },
 "nbformat": 4,
 "nbformat_minor": 5
}
