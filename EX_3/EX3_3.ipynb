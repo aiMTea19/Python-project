{
 "cells": [
  {
   "cell_type": "code",
   "execution_count": null,
   "id": "7433bbba",
   "metadata": {},
   "outputs": [],
   "source": [
    "from collections import Counter\n",
    "def EX3_3(z) :\n",
    "    \"\"\"\n",
    "    (list) -> (bool)\n",
    "    \"\"\"\n",
    "    y = Counter(z)\n",
    "    count_n = (y[\"n\"])\n",
    "    count_s = (y[\"s\"])\n",
    "    count_e = (y[\"e\"])\n",
    "    count_w = (y[\"w\"])\n",
    "    if count_s != 0 :\n",
    "        count_n -= count_s\n",
    "        if count_w > count_e :\n",
    "            count_w -= count_e\n",
    "            count_e = 0\n",
    "            if (count_n == 2 and count_e == 3 and count_w == 0) or (count_n == 3 and count_e == 0 and count_w == 4) :\n",
    "                return True\n",
    "            else :\n",
    "                return False\n",
    "        else :\n",
    "            count_e -= count_w\n",
    "            count_w = 0\n",
    "            if (count_n == 2 and count_e == 3 and count_w == 0) or (count_n == 3 and count_e == 0 and count_w == 4) :\n",
    "                return True\n",
    "            else :\n",
    "                return False"
   ]
  }
 ],
 "metadata": {
  "kernelspec": {
   "display_name": "Python 3 (ipykernel)",
   "language": "python",
   "name": "python3"
  },
  "language_info": {
   "codemirror_mode": {
    "name": "ipython",
    "version": 3
   },
   "file_extension": ".py",
   "mimetype": "text/x-python",
   "name": "python",
   "nbconvert_exporter": "python",
   "pygments_lexer": "ipython3",
   "version": "3.9.12"
  }
 },
 "nbformat": 4,
 "nbformat_minor": 5
}
