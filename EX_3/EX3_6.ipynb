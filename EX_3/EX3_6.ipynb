{
 "cells": [
  {
   "cell_type": "code",
   "execution_count": null,
   "id": "33b56788",
   "metadata": {},
   "outputs": [],
   "source": [
    "def EX3_6(alist) :\n",
    "    \"\"\"\n",
    "    (list) -> (str)\n",
    "    \"\"\"\n",
    "    if len(alist) == 0 :\n",
    "        return \":/\"\n",
    "    elif (max(alist) - min(alist)) in alist :\n",
    "        return \":)\"\n",
    "    elif (max(alist) - min(alist)) not in alist :\n",
    "        return \":(\""
   ]
  }
 ],
 "metadata": {
  "kernelspec": {
   "display_name": "Python 3 (ipykernel)",
   "language": "python",
   "name": "python3"
  },
  "language_info": {
   "codemirror_mode": {
    "name": "ipython",
    "version": 3
   },
   "file_extension": ".py",
   "mimetype": "text/x-python",
   "name": "python",
   "nbconvert_exporter": "python",
   "pygments_lexer": "ipython3",
   "version": "3.9.12"
  }
 },
 "nbformat": 4,
 "nbformat_minor": 5
}
