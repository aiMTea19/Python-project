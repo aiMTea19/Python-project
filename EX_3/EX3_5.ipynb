{
 "cells": [
  {
   "cell_type": "code",
   "execution_count": null,
   "id": "81bcf84a",
   "metadata": {},
   "outputs": [],
   "source": [
    "def EX3_5(dis) :\n",
    "    \"\"\"\n",
    "    (list) -> (bool)\n",
    "    \"\"\"\n",
    "    miles = sum([abs(x) for x in dis])    \n",
    "    if miles == 25 :\n",
    "        return True\n",
    "    else :\n",
    "        return False"
   ]
  }
 ],
 "metadata": {
  "kernelspec": {
   "display_name": "Python 3 (ipykernel)",
   "language": "python",
   "name": "python3"
  },
  "language_info": {
   "codemirror_mode": {
    "name": "ipython",
    "version": 3
   },
   "file_extension": ".py",
   "mimetype": "text/x-python",
   "name": "python",
   "nbconvert_exporter": "python",
   "pygments_lexer": "ipython3",
   "version": "3.9.12"
  }
 },
 "nbformat": 4,
 "nbformat_minor": 5
}
