{
 "cells": [
  {
   "cell_type": "code",
   "execution_count": null,
   "id": "bd619198",
   "metadata": {},
   "outputs": [],
   "source": [
    "def EX3_1(x):\n",
    "    \"\"\"\n",
    "    (int) -> (int)\n",
    "    \"\"\"\n",
    "    col = 0\n",
    "    while x != 1 :\n",
    "        if x % 2 == 0 :\n",
    "            x /= 2\n",
    "            col += 1    \n",
    "        else :\n",
    "            x = (x * 3) + 1\n",
    "            col += 1\n",
    "    return col"
   ]
  }
 ],
 "metadata": {
  "kernelspec": {
   "display_name": "Python 3 (ipykernel)",
   "language": "python",
   "name": "python3"
  },
  "language_info": {
   "codemirror_mode": {
    "name": "ipython",
    "version": 3
   },
   "file_extension": ".py",
   "mimetype": "text/x-python",
   "name": "python",
   "nbconvert_exporter": "python",
   "pygments_lexer": "ipython3",
   "version": "3.9.12"
  }
 },
 "nbformat": 4,
 "nbformat_minor": 5
}
